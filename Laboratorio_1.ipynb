{
 "cells": [
  {
   "cell_type": "code",
   "execution_count": 2,
   "metadata": {},
   "outputs": [],
   "source": [
    "import numpy as np"
   ]
  },
  {
   "cell_type": "code",
   "execution_count": 3,
   "metadata": {},
   "outputs": [],
   "source": [
    "class my_regresion():\n",
    "    Directorio={}\n",
    "    def __init__(self, x, y):\n",
    "        self.x = list(x)\n",
    "        self.y = list(y)\n",
    "        self.n = int(len(x))\n",
    "        self.sumatoria_x=sum(x)\n",
    "        self.sumatoria_y=sum(y)\n",
    "        self.xy_sumatoria = sum([a * b for a, b in zip(x,y)])\n",
    "        self.x_cuadrado=(sum([a * b for a, b in zip(x,x)]))\n",
    "        self.beta0 = ((self.n * self.xy_sumatoria)-(self.sumatoria_x*self.sumatoria_y))/((self.n * self.x_cuadrado)-(self.sumatoria_x**2))\n",
    "        self.beta1=((self.x_cuadrado*self.sumatoria_y)-(self.sumatoria_x*self.xy_sumatoria))/((self.n * self.x_cuadrado-(self.sumatoria_x**2)))\n",
    "        my_regresion.Directorio[\"b0\"]=self.beta0\n",
    "        my_regresion.Directorio[\"b1\"]=self.beta1\n",
    "    \n",
    "    def predict(self,val):\n",
    "        prediccion_inicial = (self.beta0 * val + self.beta1)\n",
    "        return prediccion_inicial\n",
    "\n",
    "    def predictN(self,vals):\n",
    "        self.values = list(vals)\n",
    "        self.resultados = ([self.beta0 * vals + self.beta1 for vals in self.values])\n",
    "        return self.resultados\n",
    "    \n",
    "    def r2(self):\n",
    "        self.error = (sum([a - b for a, b in zip(self.resultados,self.y)]))**2        \n",
    "        my_regresion.Directorio[\"r2\"]=self.error\n",
    "        return self.error\n",
    "    \n",
    "    def r(self):\n",
    "        self.r = np.sqrt(self.error)\n",
    "        my_regresion.Directorio[\"r\"]=self.r\n",
    "        return self.r\n",
    "    \n",
    "    def getAllParams(self):\n",
    "        return my_regresion.Directorio\n",
    "    \n",
    "    @classmethod\n",
    "    def from_file(cls,path):\n",
    "        return cls"
   ]
  },
  {
   "cell_type": "code",
   "execution_count": 4,
   "metadata": {},
   "outputs": [],
   "source": [
    "Prueba=my_regresion(list((2,4,6,10,14)),list((14,19,15,28,30)))"
   ]
  },
  {
   "cell_type": "code",
   "execution_count": 6,
   "metadata": {},
   "outputs": [
    {
     "data": {
      "text/plain": [
       "27.96551724137931"
      ]
     },
     "execution_count": 6,
     "metadata": {},
     "output_type": "execute_result"
    }
   ],
   "source": [
    "Prueba.predict(12)"
   ]
  },
  {
   "cell_type": "code",
   "execution_count": 7,
   "metadata": {},
   "outputs": [
    {
     "data": {
      "text/plain": [
       "[13.870689655172413,\n",
       " 16.689655172413794,\n",
       " 19.508620689655174,\n",
       " 22.32758620689655,\n",
       " 33.60344827586207]"
      ]
     },
     "execution_count": 7,
     "metadata": {},
     "output_type": "execute_result"
    }
   ],
   "source": [
    "Prueba.predictN(list((2,4,6,8,16)))"
   ]
  },
  {
   "cell_type": "code",
   "execution_count": 8,
   "metadata": {},
   "outputs": [
    {
     "data": {
      "text/plain": [
       "1.262177448353619e-29"
      ]
     },
     "execution_count": 8,
     "metadata": {},
     "output_type": "execute_result"
    }
   ],
   "source": [
    "Prueba.r2()"
   ]
  },
  {
   "cell_type": "code",
   "execution_count": 9,
   "metadata": {},
   "outputs": [
    {
     "data": {
      "text/plain": [
       "3.552713678800501e-15"
      ]
     },
     "execution_count": 9,
     "metadata": {},
     "output_type": "execute_result"
    }
   ],
   "source": [
    "Prueba.r()"
   ]
  },
  {
   "cell_type": "code",
   "execution_count": 10,
   "metadata": {},
   "outputs": [
    {
     "data": {
      "text/plain": [
       "{'b0': 1.4094827586206897,\n",
       " 'b1': 11.051724137931034,\n",
       " 'r2': 1.262177448353619e-29,\n",
       " 'r': 3.552713678800501e-15}"
      ]
     },
     "execution_count": 10,
     "metadata": {},
     "output_type": "execute_result"
    }
   ],
   "source": [
    "Prueba.getAllParams()"
   ]
  },
  {
   "cell_type": "code",
   "execution_count": 6,
   "metadata": {},
   "outputs": [
    {
     "data": {
      "text/plain": [
       "__main__.my_regresion"
      ]
     },
     "execution_count": 6,
     "metadata": {},
     "output_type": "execute_result"
    }
   ],
   "source": [
    "Prueba.from_file(\"/Users/Julio Rodas/Documents/Postgrado/Lab1.csv\")"
   ]
  },
  {
   "cell_type": "code",
   "execution_count": null,
   "metadata": {},
   "outputs": [],
   "source": []
  }
 ],
 "metadata": {
  "kernelspec": {
   "display_name": "Python 3",
   "language": "python",
   "name": "python3"
  },
  "language_info": {
   "codemirror_mode": {
    "name": "ipython",
    "version": 3
   },
   "file_extension": ".py",
   "mimetype": "text/x-python",
   "name": "python",
   "nbconvert_exporter": "python",
   "pygments_lexer": "ipython3",
   "version": "3.8.5"
  }
 },
 "nbformat": 4,
 "nbformat_minor": 4
}
